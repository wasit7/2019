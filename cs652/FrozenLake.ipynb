{
 "cells": [
  {
   "cell_type": "code",
   "execution_count": 1,
   "metadata": {},
   "outputs": [],
   "source": [
    "import gym\n",
    "LEFT = 0\n",
    "DOWN = 1\n",
    "RIGHT = 2\n",
    "UP = 3"
   ]
  },
  {
   "cell_type": "code",
   "execution_count": 2,
   "metadata": {},
   "outputs": [],
   "source": [
    "env = gym.make('FrozenLake-v0')"
   ]
  },
  {
   "cell_type": "code",
   "execution_count": 3,
   "metadata": {},
   "outputs": [],
   "source": [
    "import numpy as np\n",
    "def agent(s):\n",
    "    Q=[#left , Down , Right , Up\n",
    "        [0.0,1,0.0,0.0],#s0\n",
    "        [1,0.0,0.0,0.0],#s1\n",
    "        [0.0,1,0.0,0.0],#s2\n",
    "        [1,0.0,0.0,0.0],#s3\n",
    "        [1,0.0,0.0,0.0],#s4\n",
    "        [0.0,0.0,0.0,0.0],#s5\n",
    "        [0.0,1,0.0,0.0],#s6\n",
    "        [0.0,0.0,0.0,0.0],#s7\n",
    "        [0.0,0.0,1,0.0],#s8\n",
    "        [0.0,1,0.0,0.0],#s9\n",
    "        [1,0.0,0.0,0.0],#s10\n",
    "        [0.0,0.0,0.0,0.0],#s11\n",
    "        [0.0,0.0,0.0,0.0],#s12\n",
    "        [0.0,0.0,1,0.0],#s13\n",
    "        [0.0,0.0,1,0.0],#s14\n",
    "        [0.0,0.0,0.0,0.0]#s15\n",
    "    ]\n",
    "    Q = np.array(Q)\n",
    "    action=np.argmax(Q[s,:])\n",
    "    return action"
   ]
  },
  {
   "cell_type": "code",
   "execution_count": 4,
   "metadata": {},
   "outputs": [
    {
     "name": "stdout",
     "output_type": "stream",
     "text": [
      "88\n"
     ]
    }
   ],
   "source": [
    "count = 0\n",
    "for i in range(1000):\n",
    "    state = env.reset()\n",
    "    done = False\n",
    "    while not done:\n",
    "        #env.render()\n",
    "        action=agent(state)\n",
    "        state,reward,done,_=env.step(action)\n",
    "        #env.render()\n",
    "        #print('Done')\n",
    "    if reward:\n",
    "        count+=1\n",
    "print(count)"
   ]
  },
  {
   "cell_type": "code",
   "execution_count": null,
   "metadata": {},
   "outputs": [],
   "source": []
  },
  {
   "cell_type": "code",
   "execution_count": null,
   "metadata": {},
   "outputs": [],
   "source": []
  }
 ],
 "metadata": {
  "kernelspec": {
   "display_name": "Python 3",
   "language": "python",
   "name": "python3"
  },
  "language_info": {
   "codemirror_mode": {
    "name": "ipython",
    "version": 3
   },
   "file_extension": ".py",
   "mimetype": "text/x-python",
   "name": "python",
   "nbconvert_exporter": "python",
   "pygments_lexer": "ipython3",
   "version": "3.6.9"
  }
 },
 "nbformat": 4,
 "nbformat_minor": 2
}
