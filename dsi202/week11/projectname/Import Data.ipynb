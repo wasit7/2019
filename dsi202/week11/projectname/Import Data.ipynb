{
 "cells": [
  {
   "cell_type": "code",
   "execution_count": 1,
   "metadata": {},
   "outputs": [
    {
     "data": {
      "text/plain": [
       "<QuerySet [<Car: Toyota Vios>, <Car: Toyoya Camry>, <Car: Toyota Altis>, <Car: Toyota Vios>, <Car: Toyota Sienta>, <Car: Toyota Sienta2>]>"
      ]
     },
     "execution_count": 1,
     "metadata": {},
     "output_type": "execute_result"
    }
   ],
   "source": [
    "Car.objects.all()"
   ]
  },
  {
   "cell_type": "code",
   "execution_count": 2,
   "metadata": {},
   "outputs": [],
   "source": [
    "%matplotlib inline\n",
    "import matplotlib.pyplot as plt \n",
    "import numpy as np\n",
    "import pandas as pd\n",
    "import os\n",
    "import datetime as dt"
   ]
  },
  {
   "cell_type": "code",
   "execution_count": 3,
   "metadata": {},
   "outputs": [
    {
     "name": "stdout",
     "output_type": "stream",
     "text": [
      "/home/wasit/github/2019/dsi202/week11/projectname\n"
     ]
    }
   ],
   "source": [
    "cwd=os.getcwd()\n",
    "print(cwd)"
   ]
  },
  {
   "cell_type": "code",
   "execution_count": 4,
   "metadata": {},
   "outputs": [
    {
     "data": {
      "text/plain": [
       "'/home/wasit/github/2019/dsi202/week11/projectname/data/week11 dsi202 - Car.csv'"
      ]
     },
     "execution_count": 4,
     "metadata": {},
     "output_type": "execute_result"
    }
   ],
   "source": [
    "os.path.join(cwd,'data','week11 dsi202 - Car.csv')"
   ]
  },
  {
   "cell_type": "code",
   "execution_count": 5,
   "metadata": {},
   "outputs": [],
   "source": [
    "path=os.path.join(cwd,'data','week11 dsi202 - Car.csv')\n",
    "df_car=pd.read_csv(path)\n",
    "\n",
    "path=os.path.join(cwd,'data','week11 dsi202 - Customer.csv')\n",
    "df_customer=pd.read_csv(path)"
   ]
  },
  {
   "cell_type": "code",
   "execution_count": 6,
   "metadata": {},
   "outputs": [
    {
     "name": "stdout",
     "output_type": "stream",
     "text": [
      "<class 'pandas.core.frame.DataFrame'>\n",
      "RangeIndex: 17 entries, 0 to 16\n",
      "Data columns (total 3 columns):\n",
      "brand    17 non-null object\n",
      "model    17 non-null object\n",
      "price    17 non-null object\n",
      "dtypes: object(3)\n",
      "memory usage: 536.0+ bytes\n"
     ]
    }
   ],
   "source": [
    "df_car.info()"
   ]
  },
  {
   "cell_type": "code",
   "execution_count": 7,
   "metadata": {},
   "outputs": [
    {
     "name": "stdout",
     "output_type": "stream",
     "text": [
      "<class 'pandas.core.frame.DataFrame'>\n",
      "RangeIndex: 23 entries, 0 to 22\n",
      "Data columns (total 4 columns):\n",
      "first_name    23 non-null object\n",
      "last_name     23 non-null object\n",
      "telephone     23 non-null int64\n",
      "email         23 non-null object\n",
      "dtypes: int64(1), object(3)\n",
      "memory usage: 864.0+ bytes\n"
     ]
    }
   ],
   "source": [
    "df_customer.info()"
   ]
  },
  {
   "cell_type": "code",
   "execution_count": 8,
   "metadata": {},
   "outputs": [],
   "source": [
    "#customer,car,cost,start,stop\n",
    "df_rent=pd.DataFrame(columns=['customer','car','cost','start','stop'])"
   ]
  },
  {
   "cell_type": "code",
   "execution_count": 9,
   "metadata": {},
   "outputs": [
    {
     "name": "stdout",
     "output_type": "stream",
     "text": [
      "pass:2018, 6, 31, 16, 50\n",
      "pass:2018, 2, 31, 5, 50\n",
      "pass:2018, 2, 30, 16, 39\n"
     ]
    },
    {
     "data": {
      "text/html": [
       "<div>\n",
       "<style scoped>\n",
       "    .dataframe tbody tr th:only-of-type {\n",
       "        vertical-align: middle;\n",
       "    }\n",
       "\n",
       "    .dataframe tbody tr th {\n",
       "        vertical-align: top;\n",
       "    }\n",
       "\n",
       "    .dataframe thead th {\n",
       "        text-align: right;\n",
       "    }\n",
       "</style>\n",
       "<table border=\"1\" class=\"dataframe\">\n",
       "  <thead>\n",
       "    <tr style=\"text-align: right;\">\n",
       "      <th></th>\n",
       "      <th>customer</th>\n",
       "      <th>car</th>\n",
       "      <th>cost</th>\n",
       "      <th>start</th>\n",
       "      <th>stop</th>\n",
       "    </tr>\n",
       "  </thead>\n",
       "  <tbody>\n",
       "    <tr>\n",
       "      <td>0</td>\n",
       "      <td>6</td>\n",
       "      <td>1</td>\n",
       "      <td>1379</td>\n",
       "      <td>2018-11-27 03:12:00</td>\n",
       "      <td>2018-11-30 08:33:00</td>\n",
       "    </tr>\n",
       "    <tr>\n",
       "      <td>1</td>\n",
       "      <td>9</td>\n",
       "      <td>10</td>\n",
       "      <td>1566</td>\n",
       "      <td>2018-03-08 18:53:00</td>\n",
       "      <td>2018-03-15 11:16:00</td>\n",
       "    </tr>\n",
       "    <tr>\n",
       "      <td>2</td>\n",
       "      <td>10</td>\n",
       "      <td>2</td>\n",
       "      <td>4935</td>\n",
       "      <td>2018-11-27 20:09:00</td>\n",
       "      <td>2018-11-28 15:47:00</td>\n",
       "    </tr>\n",
       "    <tr>\n",
       "      <td>3</td>\n",
       "      <td>6</td>\n",
       "      <td>10</td>\n",
       "      <td>2100</td>\n",
       "      <td>2018-03-24 09:47:00</td>\n",
       "      <td>2018-03-27 02:59:00</td>\n",
       "    </tr>\n",
       "    <tr>\n",
       "      <td>4</td>\n",
       "      <td>16</td>\n",
       "      <td>3</td>\n",
       "      <td>3901</td>\n",
       "      <td>2018-09-09 09:55:00</td>\n",
       "      <td>2018-09-13 10:06:00</td>\n",
       "    </tr>\n",
       "  </tbody>\n",
       "</table>\n",
       "</div>"
      ],
      "text/plain": [
       "  customer car  cost                start                 stop\n",
       "0        6   1  1379  2018-11-27 03:12:00  2018-11-30 08:33:00\n",
       "1        9  10  1566  2018-03-08 18:53:00  2018-03-15 11:16:00\n",
       "2       10   2  4935  2018-11-27 20:09:00  2018-11-28 15:47:00\n",
       "3        6  10  2100  2018-03-24 09:47:00  2018-03-27 02:59:00\n",
       "4       16   3  3901  2018-09-09 09:55:00  2018-09-13 10:06:00"
      ]
     },
     "execution_count": 9,
     "metadata": {},
     "output_type": "execute_result"
    }
   ],
   "source": [
    "df_rent=pd.DataFrame(columns=['customer','car','cost','start','stop'])\n",
    "df_rent.start.astype('datetime64',copy=True)\n",
    "for i in range(100):\n",
    "    year=2018\n",
    "    month=np.random.randint(low=1,high=13)\n",
    "    day=np.random.randint(low=1,high=32)\n",
    "    hour=np.random.randint(low=0,high=24)\n",
    "    minute=np.random.randint(low=0,high=60)\n",
    "    try:\n",
    "        d=dt.datetime(year,month,day,hour,minute)\n",
    "    except:\n",
    "        print('pass:%s, %s, %s, %s, %s'%(year,month,day,hour,minute))\n",
    "        continue\n",
    "    delta = dt.timedelta(\n",
    "        hours = np.random.randint(low=12,high=168),\n",
    "        minutes = np.random.randint(low=0,high=60),\n",
    "    )\n",
    "    \n",
    "    df_rent=df_rent.append({\n",
    "        'customer':np.random.randint(low=1,high=23),\n",
    "        'car':np.random.randint(low=1,high=17),\n",
    "        'cost':np.random.randint(low=200,high=5000),\n",
    "        'start':str(d),\n",
    "        'stop':str(d+delta)\n",
    "    }, ignore_index=True)\n",
    "df_rent.head()"
   ]
  },
  {
   "cell_type": "code",
   "execution_count": 10,
   "metadata": {},
   "outputs": [],
   "source": [
    "df_rent.to_csv('data/rent.csv')"
   ]
  },
  {
   "cell_type": "markdown",
   "metadata": {},
   "source": [
    "# Note"
   ]
  },
  {
   "cell_type": "code",
   "execution_count": 11,
   "metadata": {},
   "outputs": [
    {
     "name": "stdout",
     "output_type": "stream",
     "text": [
      "2019-10-25 07:15:55\n"
     ]
    }
   ],
   "source": [
    "print(dt.datetime(2019,10,25,7,15,55,0))"
   ]
  },
  {
   "cell_type": "code",
   "execution_count": 12,
   "metadata": {},
   "outputs": [
    {
     "data": {
      "text/plain": [
       "'2019-10-25 07:15:55'"
      ]
     },
     "execution_count": 12,
     "metadata": {},
     "output_type": "execute_result"
    }
   ],
   "source": [
    "str(dt.datetime(2019,10,25,7,15,55,0))"
   ]
  },
  {
   "cell_type": "code",
   "execution_count": 13,
   "metadata": {},
   "outputs": [
    {
     "data": {
      "text/plain": [
       "'25/10/19'"
      ]
     },
     "execution_count": 13,
     "metadata": {},
     "output_type": "execute_result"
    }
   ],
   "source": [
    "d=dt.datetime(2019,10,25,7,15,55,0)\n",
    "d.strftime(\"%d/%m/%y\")"
   ]
  },
  {
   "cell_type": "code",
   "execution_count": 14,
   "metadata": {},
   "outputs": [
    {
     "data": {
      "text/plain": [
       "datetime.datetime(2019, 10, 24, 9, 56, 41, 453789)"
      ]
     },
     "execution_count": 14,
     "metadata": {},
     "output_type": "execute_result"
    }
   ],
   "source": [
    "now = dt.datetime.now()\n",
    "now"
   ]
  },
  {
   "cell_type": "code",
   "execution_count": 15,
   "metadata": {},
   "outputs": [
    {
     "data": {
      "text/plain": [
       "datetime.datetime(2019, 10, 24, 22, 6, 41, 453789)"
      ]
     },
     "execution_count": 15,
     "metadata": {},
     "output_type": "execute_result"
    }
   ],
   "source": [
    "delta = dt.timedelta(hours = 12, minutes=10)\n",
    "now+delta"
   ]
  },
  {
   "cell_type": "code",
   "execution_count": 16,
   "metadata": {},
   "outputs": [
    {
     "data": {
      "text/plain": [
       "array([0.06164317, 0.52942234, 0.4143992 , 0.5614993 , 0.05307166])"
      ]
     },
     "execution_count": 16,
     "metadata": {},
     "output_type": "execute_result"
    }
   ],
   "source": [
    "np.random.rand(5)"
   ]
  },
  {
   "cell_type": "code",
   "execution_count": null,
   "metadata": {},
   "outputs": [],
   "source": []
  },
  {
   "cell_type": "code",
   "execution_count": 17,
   "metadata": {},
   "outputs": [
    {
     "data": {
      "text/plain": [
       "<BarContainer object of 20 artists>"
      ]
     },
     "execution_count": 17,
     "metadata": {},
     "output_type": "execute_result"
    },
    {
     "data": {
      "image/png": "[encoded data removed]",
      "text/plain": [
       "<Figure size 432x288 with 1 Axes>"
      ]
     },
     "metadata": {
      "needs_background": "light"
     },
     "output_type": "display_data"
    }
   ],
   "source": [
    "x=np.random.rand(1000)\n",
    "hist, bin_edges=np.histogram(x,bins=20)\n",
    "plt.bar(bin_edges[1:], hist)"
   ]
  },
  {
   "cell_type": "code",
   "execution_count": 18,
   "metadata": {},
   "outputs": [
    {
     "data": {
      "text/plain": [
       "<BarContainer object of 20 artists>"
      ]
     },
     "execution_count": 18,
     "metadata": {},
     "output_type": "execute_result"
    },
    {
     "data": {
      "image/png": "[encoded data removed]",
      "text/plain": [
       "<Figure size 432x288 with 1 Axes>"
      ]
     },
     "metadata": {
      "needs_background": "light"
     },
     "output_type": "display_data"
    }
   ],
   "source": [
    "x=np.random.randn(1000)*2\n",
    "hist, bin_edges=np.histogram(x,bins=20)\n",
    "plt.bar(bin_edges[:-1], hist)"
   ]
  },
  {
   "cell_type": "code",
   "execution_count": null,
   "metadata": {},
   "outputs": [],
   "source": []
  }
 ],
 "metadata": {
  "kernelspec": {
   "display_name": "Django Shell-Plus",
   "language": "python",
   "name": "django_extensions"
  },
  "language_info": {
   "codemirror_mode": {
    "name": "ipython",
    "version": 3
   },
   "file_extension": ".py",
   "mimetype": "text/x-python",
   "name": "python",
   "nbconvert_exporter": "python",
   "pygments_lexer": "ipython3",
   "version": "3.6.9"
  }
 },
 "nbformat": 4,
 "nbformat_minor": 2
}
