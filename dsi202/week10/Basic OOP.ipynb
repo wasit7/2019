{
 "cells": [
  {
   "cell_type": "code",
   "execution_count": 58,
   "metadata": {},
   "outputs": [],
   "source": [
    "class Rectangle(object): #class #instance\n",
    "    def __init__(self,w=0,h=0):\n",
    "        self.width=w\n",
    "        self.height=h\n",
    "        \n",
    "    def area(self):\n",
    "        return self.width*self.height\n",
    "    \n",
    "    def __str__(self):\n",
    "        return \"[Rectangle] w: %s, h:%s, area:%.2f\"%(self.width, self.height, self.area())\n",
    "    \n",
    "class Triangle(Rectangle):\n",
    "    def area(self):\n",
    "        return 0.5/self.width*self.height\n",
    "    \n",
    "    def __str__(self):\n",
    "        return \"[Triagle] w: %s, h:%s, area:%.2f\"%(self.width, self.height, self.area())\n",
    "    \n",
    "class Square(Rectangle):\n",
    "    def __init__(self,w=0):\n",
    "        self.width=w\n",
    "        self.height=w\n",
    "        \n",
    "    def __str__(self):\n",
    "        return \"[Square] w: %s, h:%s, area:%.2f\"%(self.width, self.height, self.area())"
   ]
  },
  {
   "cell_type": "code",
   "execution_count": 59,
   "metadata": {},
   "outputs": [
    {
     "name": "stdout",
     "output_type": "stream",
     "text": [
      "[Rectangle] w: 5, h:7, area:35.00\n",
      "[Triagle] w: 3, h:2, area:0.33\n",
      "[Square] w: 3, h:3, area:9.00\n"
     ]
    }
   ],
   "source": [
    "x = Rectangle(5,7)\n",
    "y = Triangle(3,2)\n",
    "z = Square(3)\n",
    "print(x)\n",
    "print(y)\n",
    "print(z)"
   ]
  },
  {
   "cell_type": "code",
   "execution_count": null,
   "metadata": {},
   "outputs": [],
   "source": []
  }
 ],
 "metadata": {
  "kernelspec": {
   "display_name": "Python 3",
   "language": "python",
   "name": "python3"
  },
  "language_info": {
   "codemirror_mode": {
    "name": "ipython",
    "version": 3
   },
   "file_extension": ".py",
   "mimetype": "text/x-python",
   "name": "python",
   "nbconvert_exporter": "python",
   "pygments_lexer": "ipython3",
   "version": "3.6.9"
  }
 },
 "nbformat": 4,
 "nbformat_minor": 2
}
