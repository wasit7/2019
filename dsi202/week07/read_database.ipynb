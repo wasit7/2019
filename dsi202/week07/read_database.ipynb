{
 "cells": [
  {
   "cell_type": "code",
   "execution_count": 1,
   "metadata": {},
   "outputs": [
    {
     "name": "stdout",
     "output_type": "stream",
     "text": [
      "                         date username\n",
      "0  2019-09-05T14:24:42.790458    wasit\n",
      "1  2019-09-05T14:24:42.790458    wasit\n",
      "2  2019-09-05T14:24:42.790458    wasit\n",
      "3  2019-09-05T14:24:42.790458    wasit\n",
      "4  2019-09-05T14:24:42.790458    wasit\n"
     ]
    }
   ],
   "source": [
    "import pandas as pd\n",
    "import sqlite3\n",
    "\n",
    "con = sqlite3.connect(\"usercounter.db\")\n",
    "df = pd.read_sql_query(\"SELECT * from usercounter\", con)\n",
    "\n",
    "print(df.head())\n",
    "con.close()"
   ]
  },
  {
   "cell_type": "code",
   "execution_count": 2,
   "metadata": {},
   "outputs": [
    {
     "name": "stdout",
     "output_type": "stream",
     "text": [
      "<class 'pandas.core.frame.DataFrame'>\n",
      "RangeIndex: 43 entries, 0 to 42\n",
      "Data columns (total 2 columns):\n",
      "date        43 non-null object\n",
      "username    43 non-null object\n",
      "dtypes: object(2)\n",
      "memory usage: 816.0+ bytes\n"
     ]
    }
   ],
   "source": [
    "df.info()"
   ]
  },
  {
   "cell_type": "code",
   "execution_count": null,
   "metadata": {},
   "outputs": [],
   "source": []
  },
  {
   "cell_type": "code",
   "execution_count": null,
   "metadata": {},
   "outputs": [],
   "source": []
  }
 ],
 "metadata": {
  "kernelspec": {
   "display_name": "Python 3",
   "language": "python",
   "name": "python3"
  },
  "language_info": {
   "codemirror_mode": {
    "name": "ipython",
    "version": 3
   },
   "file_extension": ".py",
   "mimetype": "text/x-python",
   "name": "python",
   "nbconvert_exporter": "python",
   "pygments_lexer": "ipython3",
   "version": "3.6.9"
  }
 },
 "nbformat": 4,
 "nbformat_minor": 4
}
