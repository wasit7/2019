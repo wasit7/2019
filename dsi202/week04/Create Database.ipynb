{
 "cells": [
  {
   "cell_type": "markdown",
   "metadata": {},
   "source": [
    "Code\n",
    "https://github.com/wasit7/2019/tree/master/dsi202/week04\n",
    "\n",
    "SQLite Browser\n",
    "https://sqlitebrowser.org/dl/\n"
   ]
  },
  {
   "cell_type": "code",
   "execution_count": 21,
   "metadata": {},
   "outputs": [],
   "source": [
    "import sqlite3\n",
    "conn = sqlite3.connect('usercounter.db')"
   ]
  },
  {
   "cell_type": "code",
   "execution_count": 22,
   "metadata": {},
   "outputs": [],
   "source": [
    "c = conn.cursor()\n",
    "c.execute('''CREATE TABLE usercounter\n",
    "             (date datetime, username text)''')\n",
    "conn.commit()\n",
    "conn.close()"
   ]
  },
  {
   "cell_type": "code",
   "execution_count": 29,
   "metadata": {},
   "outputs": [],
   "source": [
    "import sqlite3\n",
    "from datetime import datetime\n",
    "conn = sqlite3.connect('usercounter.db')\n",
    "c = conn.cursor()\n",
    "\n",
    "username=\"wasit\"\n",
    "now=datetime.now()\n",
    "time=now.isoformat()\n",
    "\n",
    "c.execute(\"INSERT INTO usercounter VALUES ('%s','%s')\"%(time,username))\n",
    "conn.commit()\n",
    "conn.close()"
   ]
  },
  {
   "cell_type": "code",
   "execution_count": 30,
   "metadata": {},
   "outputs": [
    {
     "data": {
      "text/plain": [
       "'/home/wasit/github/2019/dsi202/week04'"
      ]
     },
     "execution_count": 30,
     "metadata": {},
     "output_type": "execute_result"
    }
   ],
   "source": [
    "pwd"
   ]
  },
  {
   "cell_type": "code",
   "execution_count": 10,
   "metadata": {},
   "outputs": [
    {
     "name": "stdout",
     "output_type": "stream",
     "text": [
      "('2019-09-05T14:24:42.790458', 'wasit')\n",
      "('2019-09-05T14:24:42.790458', 'wasit')\n",
      "('2019-09-05T14:24:42.790458', 'wasit')\n",
      "('2019-09-05T14:24:42.790458', 'wasit')\n",
      "('2019-09-05T14:24:42.790458', 'wasit')\n",
      "('2019-09-05T14:44:40.555254', 'wasit')\n",
      "('2019-09-05T15:11:44.582167', 'wasit')\n",
      "('2019-09-05T15:12:24.564568', 'david')\n",
      "('2019-09-05T15:14:36.397494', 'einstien')\n",
      "('2019-09-05T15:36:24.801170', 'name')\n",
      "('2019-09-05T15:36:52.083177', 'name')\n",
      "('2019-09-05T15:36:52.088165', 'name')\n",
      "('2019-09-05T15:36:52.092900', 'name')\n",
      "('2019-09-05T15:36:52.097144', 'name')\n",
      "('2019-09-05T15:36:52.101884', 'name')\n",
      "('2019-09-05T15:40:51.609284', 'name')\n",
      "('2019-09-05T15:40:51.620181', 'name')\n",
      "('2019-09-05T15:40:51.625387', 'name')\n",
      "('2019-09-05T15:40:51.629794', 'name')\n",
      "('2019-09-05T15:40:51.634296', 'name')\n",
      "('2019-09-05T15:41:10.757753', 'David')\n",
      "('2019-09-05T15:41:10.762856', 'David')\n",
      "('2019-09-05T15:41:10.767073', 'David')\n",
      "('2019-09-05T15:41:10.770721', 'Einstein')\n",
      "('2019-09-05T15:41:10.774736', 'Wasit')\n",
      "('2019-09-05T15:41:24.335623', 'Einstein')\n",
      "('2019-09-05T15:41:28.348232', 'Wasit')\n",
      "('2019-09-05T15:41:29.358677', 'David')\n",
      "('2019-09-05T15:41:30.372176', 'Wasit')\n",
      "('2019-09-05T15:41:31.380064', 'Einstein')\n",
      "('2019-09-05T15:42:18.413418', 'Einstein')\n",
      "('2019-09-05T15:42:20.423343', 'Wasit')\n",
      "('2019-09-05T15:42:21.431008', 'David')\n",
      "('2019-09-05T15:42:22.440542', 'Einstein')\n",
      "('2019-09-05T15:42:25.454191', 'David')\n",
      "('2019-09-05T15:42:28.469098', 'David')\n",
      "('2019-09-05T15:51:47.495146', 'einstien')\n",
      "('2019-09-05T15:56:34.343346', 'einstien')\n",
      "('2019-09-05T15:57:05.890273', 'einstien')\n",
      "('2019-09-05T15:58:24.090474', 'einstien')\n",
      "('2019-09-05T16:01:04.040658', 'einstien')\n",
      "('2019-09-05T16:01:06.186848', 'einstien')\n",
      "('2019-09-05T16:02:06.067842', 'einstien')\n"
     ]
    }
   ],
   "source": [
    "import sqlite3\n",
    "from datetime import datetime\n",
    "conn = sqlite3.connect('usercounter.db')\n",
    "c = conn.cursor()\n",
    "\n",
    "for i in c.execute('SELECT * FROM usercounter'):\n",
    "    print(i)\n",
    "    \n",
    "conn.close()"
   ]
  },
  {
   "cell_type": "code",
   "execution_count": 2,
   "metadata": {},
   "outputs": [
    {
     "data": {
      "text/plain": [
       "<sqlite3.Cursor at 0x7f3954dcbb20>"
      ]
     },
     "execution_count": 2,
     "metadata": {},
     "output_type": "execute_result"
    }
   ],
   "source": [
    "x"
   ]
  },
  {
   "cell_type": "code",
   "execution_count": 4,
   "metadata": {},
   "outputs": [
    {
     "data": {
      "text/plain": [
       "-1"
      ]
     },
     "execution_count": 4,
     "metadata": {},
     "output_type": "execute_result"
    }
   ],
   "source": [
    "x.rowcount"
   ]
  },
  {
   "cell_type": "code",
   "execution_count": null,
   "metadata": {},
   "outputs": [],
   "source": []
  }
 ],
 "metadata": {
  "kernelspec": {
   "display_name": "Python 3",
   "language": "python",
   "name": "python3"
  },
  "language_info": {
   "codemirror_mode": {
    "name": "ipython",
    "version": 3
   },
   "file_extension": ".py",
   "mimetype": "text/x-python",
   "name": "python",
   "nbconvert_exporter": "python",
   "pygments_lexer": "ipython3",
   "version": "3.6.9"
  }
 },
 "nbformat": 4,
 "nbformat_minor": 2
}
