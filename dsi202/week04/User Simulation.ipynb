{
 "cells": [
  {
   "cell_type": "code",
   "execution_count": 20,
   "metadata": {},
   "outputs": [
    {
     "ename": "RuntimeError",
     "evalue": "This event loop is already running",
     "output_type": "error",
     "traceback": [
      "\u001b[0;31m---------------------------------------------------------------------------\u001b[0m",
      "\u001b[0;31mRuntimeError\u001b[0m                              Traceback (most recent call last)",
      "\u001b[0;32m<ipython-input-20-41050f0f5e4d>\u001b[0m in \u001b[0;36m<module>\u001b[0;34m\u001b[0m\n\u001b[1;32m     18\u001b[0m \u001b[0;34m\u001b[0m\u001b[0m\n\u001b[1;32m     19\u001b[0m \u001b[0mloop\u001b[0m \u001b[0;34m=\u001b[0m \u001b[0masyncio\u001b[0m\u001b[0;34m.\u001b[0m\u001b[0mget_event_loop\u001b[0m\u001b[0;34m(\u001b[0m\u001b[0;34m)\u001b[0m\u001b[0;34m\u001b[0m\u001b[0;34m\u001b[0m\u001b[0m\n\u001b[0;32m---> 20\u001b[0;31m \u001b[0mloop\u001b[0m\u001b[0;34m.\u001b[0m\u001b[0mrun_until_complete\u001b[0m\u001b[0;34m(\u001b[0m\u001b[0mmain\u001b[0m\u001b[0;34m(\u001b[0m\u001b[0;34m)\u001b[0m\u001b[0;34m)\u001b[0m\u001b[0;34m\u001b[0m\u001b[0;34m\u001b[0m\u001b[0m\n\u001b[0m",
      "\u001b[0;32m~/miniconda3/envs/dsi202/lib/python3.6/asyncio/base_events.py\u001b[0m in \u001b[0;36mrun_until_complete\u001b[0;34m(self, future)\u001b[0m\n\u001b[1;32m    469\u001b[0m         \u001b[0mfuture\u001b[0m\u001b[0;34m.\u001b[0m\u001b[0madd_done_callback\u001b[0m\u001b[0;34m(\u001b[0m\u001b[0m_run_until_complete_cb\u001b[0m\u001b[0;34m)\u001b[0m\u001b[0;34m\u001b[0m\u001b[0;34m\u001b[0m\u001b[0m\n\u001b[1;32m    470\u001b[0m         \u001b[0;32mtry\u001b[0m\u001b[0;34m:\u001b[0m\u001b[0;34m\u001b[0m\u001b[0;34m\u001b[0m\u001b[0m\n\u001b[0;32m--> 471\u001b[0;31m             \u001b[0mself\u001b[0m\u001b[0;34m.\u001b[0m\u001b[0mrun_forever\u001b[0m\u001b[0;34m(\u001b[0m\u001b[0;34m)\u001b[0m\u001b[0;34m\u001b[0m\u001b[0;34m\u001b[0m\u001b[0m\n\u001b[0m\u001b[1;32m    472\u001b[0m         \u001b[0;32mexcept\u001b[0m\u001b[0;34m:\u001b[0m\u001b[0;34m\u001b[0m\u001b[0;34m\u001b[0m\u001b[0m\n\u001b[1;32m    473\u001b[0m             \u001b[0;32mif\u001b[0m \u001b[0mnew_task\u001b[0m \u001b[0;32mand\u001b[0m \u001b[0mfuture\u001b[0m\u001b[0;34m.\u001b[0m\u001b[0mdone\u001b[0m\u001b[0;34m(\u001b[0m\u001b[0;34m)\u001b[0m \u001b[0;32mand\u001b[0m \u001b[0;32mnot\u001b[0m \u001b[0mfuture\u001b[0m\u001b[0;34m.\u001b[0m\u001b[0mcancelled\u001b[0m\u001b[0;34m(\u001b[0m\u001b[0;34m)\u001b[0m\u001b[0;34m:\u001b[0m\u001b[0;34m\u001b[0m\u001b[0;34m\u001b[0m\u001b[0m\n",
      "\u001b[0;32m~/miniconda3/envs/dsi202/lib/python3.6/asyncio/base_events.py\u001b[0m in \u001b[0;36mrun_forever\u001b[0;34m(self)\u001b[0m\n\u001b[1;32m    423\u001b[0m         \u001b[0mself\u001b[0m\u001b[0;34m.\u001b[0m\u001b[0m_check_closed\u001b[0m\u001b[0;34m(\u001b[0m\u001b[0;34m)\u001b[0m\u001b[0;34m\u001b[0m\u001b[0;34m\u001b[0m\u001b[0m\n\u001b[1;32m    424\u001b[0m         \u001b[0;32mif\u001b[0m \u001b[0mself\u001b[0m\u001b[0;34m.\u001b[0m\u001b[0mis_running\u001b[0m\u001b[0;34m(\u001b[0m\u001b[0;34m)\u001b[0m\u001b[0;34m:\u001b[0m\u001b[0;34m\u001b[0m\u001b[0;34m\u001b[0m\u001b[0m\n\u001b[0;32m--> 425\u001b[0;31m             \u001b[0;32mraise\u001b[0m \u001b[0mRuntimeError\u001b[0m\u001b[0;34m(\u001b[0m\u001b[0;34m'This event loop is already running'\u001b[0m\u001b[0;34m)\u001b[0m\u001b[0;34m\u001b[0m\u001b[0;34m\u001b[0m\u001b[0m\n\u001b[0m\u001b[1;32m    426\u001b[0m         \u001b[0;32mif\u001b[0m \u001b[0mevents\u001b[0m\u001b[0;34m.\u001b[0m\u001b[0m_get_running_loop\u001b[0m\u001b[0;34m(\u001b[0m\u001b[0;34m)\u001b[0m \u001b[0;32mis\u001b[0m \u001b[0;32mnot\u001b[0m \u001b[0;32mNone\u001b[0m\u001b[0;34m:\u001b[0m\u001b[0;34m\u001b[0m\u001b[0;34m\u001b[0m\u001b[0m\n\u001b[1;32m    427\u001b[0m             raise RuntimeError(\n",
      "\u001b[0;31mRuntimeError\u001b[0m: This event loop is already running"
     ]
    },
    {
     "name": "stdout",
     "output_type": "stream",
     "text": [
      "Hello, Einstein\n",
      "Hello, Wasit\n",
      "Hello, David\n"
     ]
    }
   ],
   "source": [
    "import aiohttp\n",
    "import asyncio\n",
    "import time\n",
    "\n",
    "async def fetch(session, url):\n",
    "    async with session.get(url) as response:\n",
    "        return await response.text()\n",
    "\n",
    "async def main():\n",
    "    names=[\"Wasit\", \"Einstein\", \"David\"]\n",
    "    for i in range(10):\n",
    "        async with aiohttp.ClientSession() as session:\n",
    "            name=names[random.randint(0,len(names))]\n",
    "            html = await fetch(session, 'http://localhost:8082/counter/%s'%name)\n",
    "            print(html)\n",
    "            time.sleep( random.randint(1,5) )\n",
    "            \n",
    "\n",
    "loop = asyncio.get_event_loop()\n",
    "loop.run_until_complete(main())"
   ]
  },
  {
   "cell_type": "code",
   "execution_count": 11,
   "metadata": {},
   "outputs": [],
   "source": [
    "import random"
   ]
  },
  {
   "cell_type": "code",
   "execution_count": 13,
   "metadata": {},
   "outputs": [
    {
     "data": {
      "text/plain": [
       "3"
      ]
     },
     "execution_count": 13,
     "metadata": {},
     "output_type": "execute_result"
    }
   ],
   "source": []
  },
  {
   "cell_type": "code",
   "execution_count": 3,
   "metadata": {},
   "outputs": [],
   "source": [
    "import asyncio"
   ]
  },
  {
   "cell_type": "code",
   "execution_count": 1,
   "metadata": {},
   "outputs": [
    {
     "name": "stdout",
     "output_type": "stream",
     "text": [
      "# packages in environment at /home/wasit/miniconda3/envs/dsi202:\n",
      "#\n",
      "# Name                    Version                   Build  Channel\n",
      "_libgcc_mutex             0.1                        main  \n",
      "aiohttp                   3.5.4            py36h7b6447c_0  \n",
      "async-timeout             3.0.1                    py36_0  \n",
      "attrs                     19.1.0                   py36_1  \n",
      "backcall                  0.1.0                      py_0    conda-forge\n",
      "blas                      1.0                         mkl  \n",
      "bleach                    3.1.0                      py_0    conda-forge\n",
      "ca-certificates           2019.6.16            hecc5488_0    conda-forge\n",
      "certifi                   2019.6.16                py36_1    conda-forge\n",
      "chardet                   3.0.4                 py36_1003  \n",
      "decorator                 4.4.0                      py_0    conda-forge\n",
      "defusedxml                0.5.0                      py_1    conda-forge\n",
      "entrypoints               0.3                   py36_1000    conda-forge\n",
      "idna                      2.8                      py36_0  \n",
      "idna_ssl                  1.1.0                    py36_0  \n",
      "intel-openmp              2019.4                      243  \n",
      "ipykernel                 5.1.2            py36h5ca1d4c_0    conda-forge\n",
      "ipython                   7.8.0            py36h5ca1d4c_0    conda-forge\n",
      "ipython_genutils          0.2.0                      py_1    conda-forge\n",
      "jedi                      0.15.1                   py36_0    conda-forge\n",
      "jinja2                    2.10.1                     py_0    conda-forge\n",
      "json5                     0.8.5                      py_0    conda-forge\n",
      "jsonschema                3.0.2                    py36_0    conda-forge\n",
      "jupyter_client            5.3.1                      py_0    conda-forge\n",
      "jupyter_core              4.4.0                      py_0    conda-forge\n",
      "jupyterlab                1.1.1                      py_0    conda-forge\n",
      "jupyterlab_server         1.0.6                      py_0    conda-forge\n",
      "libedit                   3.1.20181209         hc058e9b_0  \n",
      "libffi                    3.2.1                hd88cf55_4  \n",
      "libgcc-ng                 9.1.0                hdf63c60_0  \n",
      "libgfortran-ng            7.3.0                hdf63c60_0  \n",
      "libsodium                 1.0.17               h516909a_0    conda-forge\n",
      "libstdcxx-ng              9.1.0                hdf63c60_0  \n",
      "markupsafe                1.1.1            py36h14c3975_0    conda-forge\n",
      "mistune                   0.8.4           py36h14c3975_1000    conda-forge\n",
      "mkl                       2019.4                      243  \n",
      "mkl-service               2.0.2            py36h7b6447c_0  \n",
      "mkl_fft                   1.0.14           py36ha843d7b_0  \n",
      "mkl_random                1.0.2            py36hd81dba3_0  \n",
      "multidict                 4.5.2            py36h7b6447c_0  \n",
      "nbconvert                 5.6.0                    py36_1    conda-forge\n",
      "nbformat                  4.4.0                      py_1    conda-forge\n",
      "ncurses                   6.1                  he6710b0_1  \n",
      "notebook                  6.0.1                    py36_0    conda-forge\n",
      "numpy                     1.16.4           py36h7e9f1db_0  \n",
      "numpy-base                1.16.4           py36hde5b4d6_0  \n",
      "openssl                   1.1.1c               h516909a_0    conda-forge\n",
      "pandas                    0.25.1           py36he6710b0_0  \n",
      "pandoc                    2.7.3                         0    conda-forge\n",
      "pandocfilters             1.4.2                      py_1    conda-forge\n",
      "parso                     0.5.1                      py_0    conda-forge\n",
      "pexpect                   4.7.0                    py36_0    conda-forge\n",
      "pickleshare               0.7.5                 py36_1000    conda-forge\n",
      "pip                       19.2.2                   py36_0  \n",
      "prometheus_client         0.7.1                      py_0    conda-forge\n",
      "prompt_toolkit            2.0.9                      py_0    conda-forge\n",
      "ptyprocess                0.6.0                   py_1001    conda-forge\n",
      "pygments                  2.4.2                      py_0    conda-forge\n",
      "pyrsistent                0.15.4           py36h516909a_0    conda-forge\n",
      "python                    3.6.9                h265db76_0  \n",
      "python-dateutil           2.8.0                    py36_0  \n",
      "pytz                      2019.2                     py_0  \n",
      "pyzmq                     18.0.2           py36h1768529_2    conda-forge\n",
      "readline                  7.0                  h7b6447c_5  \n",
      "send2trash                1.5.0                      py_0    conda-forge\n",
      "setuptools                41.0.1                   py36_0  \n",
      "six                       1.12.0                   py36_0  \n",
      "sqlite                    3.29.0               h7b6447c_0  \n",
      "terminado                 0.8.2                    py36_0    conda-forge\n",
      "testpath                  0.4.2                   py_1001    conda-forge\n",
      "tk                        8.6.8                hbc83047_0  \n",
      "tornado                   6.0.3            py36h516909a_0    conda-forge\n",
      "traitlets                 4.3.2                 py36_1000    conda-forge\n",
      "wcwidth                   0.1.7                      py_1    conda-forge\n",
      "webencodings              0.5.1                      py_1    conda-forge\n",
      "wheel                     0.33.4                   py36_0  \n",
      "xz                        5.2.4                h14c3975_4  \n",
      "yarl                      1.3.0            py36h7b6447c_0  \n",
      "zeromq                    4.3.2                he1b5a44_2    conda-forge\n",
      "zlib                      1.2.11               h7b6447c_3  \n"
     ]
    }
   ],
   "source": [
    "%%sh\n",
    "conda list"
   ]
  },
  {
   "cell_type": "code",
   "execution_count": null,
   "metadata": {},
   "outputs": [],
   "source": []
  }
 ],
 "metadata": {
  "kernelspec": {
   "display_name": "Python 3",
   "language": "python",
   "name": "python3"
  },
  "language_info": {
   "codemirror_mode": {
    "name": "ipython",
    "version": 3
   },
   "file_extension": ".py",
   "mimetype": "text/x-python",
   "name": "python",
   "nbconvert_exporter": "python",
   "pygments_lexer": "ipython3",
   "version": "3.6.9"
  }
 },
 "nbformat": 4,
 "nbformat_minor": 2
}
