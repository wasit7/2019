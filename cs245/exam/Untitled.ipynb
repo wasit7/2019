{
 "cells": [
  {
   "cell_type": "code",
   "execution_count": 1,
   "metadata": {},
   "outputs": [
    {
     "name": "stdout",
     "output_type": "stream",
     "text": [
      "4\n"
     ]
    }
   ],
   "source": [
    "x=[3,2,1,4]\n",
    "if x[0]<x[1]:\n",
    "    print(x[1])\n",
    "elif x[0]<x[2]:\n",
    "    print(x[2])\n",
    "else:\n",
    "    print(x[3])    "
   ]
  },
  {
   "cell_type": "code",
   "execution_count": 29,
   "metadata": {},
   "outputs": [
    {
     "name": "stdout",
     "output_type": "stream",
     "text": [
      "1.6181818181818182\n"
     ]
    }
   ],
   "source": [
    "a=1; b=1\n",
    "for i in range(9):\n",
    "    a,b=b,a+b\n",
    "print(b/a)"
   ]
  },
  {
   "cell_type": "code",
   "execution_count": 28,
   "metadata": {},
   "outputs": [
    {
     "name": "stdout",
     "output_type": "stream",
     "text": [
      "2.0\n",
      "2.5\n",
      "2.6666666666666665\n",
      "2.708333333333333\n",
      "2.7166666666666663\n",
      "2.7180555555555554\n"
     ]
    }
   ],
   "source": [
    "a=1\n",
    "b=1\n",
    "for i in range(1,7):\n",
    "    b=b*i\n",
    "    a=a+1/b\n",
    "    print(a)"
   ]
  },
  {
   "cell_type": "code",
   "execution_count": 40,
   "metadata": {},
   "outputs": [
    {
     "name": "stdout",
     "output_type": "stream",
     "text": [
      "6\n"
     ]
    }
   ],
   "source": [
    "def g(x):\n",
    "    if x==0:\n",
    "        return 1\n",
    "    else:\n",
    "        return x*g(x-1)\n",
    "print(g(3))"
   ]
  },
  {
   "cell_type": "code",
   "execution_count": 79,
   "metadata": {},
   "outputs": [],
   "source": [
    "def dec(func):\n",
    "    def g(*args,**kargs):\n",
    "        print(1,args,kargs)\n",
    "    return g\n",
    "@dec\n",
    "def f(x):\n",
    "    return x*x"
   ]
  },
  {
   "cell_type": "code",
   "execution_count": 80,
   "metadata": {},
   "outputs": [
    {
     "name": "stdout",
     "output_type": "stream",
     "text": [
      "1 (1, 2, 3, 4, 5) {'x': 3}\n"
     ]
    }
   ],
   "source": [
    "f(1,2,3,4,5,x=3)"
   ]
  },
  {
   "cell_type": "code",
   "execution_count": 84,
   "metadata": {},
   "outputs": [],
   "source": [
    "class Rectangle:\n",
    "    def __init__(self,w=0,h=0):\n",
    "        self.w=w\n",
    "        self.h=h\n",
    "    def area(self):\n",
    "        return self.w*self.h\n",
    "    def __str__(self):\n",
    "        return \"w:%s, h:%s, area:%s\"%(self.w,self.h,self.area())\n",
    "class Square(Rectangle):\n",
    "    def __init__(self,w=0):\n",
    "        self.w=w\n",
    "        self.h=w\n",
    "        \n",
    "x=Square(4)\n",
    "y=Rectangle(5,7)"
   ]
  },
  {
   "cell_type": "code",
   "execution_count": 85,
   "metadata": {},
   "outputs": [
    {
     "name": "stdout",
     "output_type": "stream",
     "text": [
      "w:4, h:4, area:16\n",
      "w:5, h:7, area:35\n"
     ]
    }
   ],
   "source": [
    "print(x)\n",
    "print(y)"
   ]
  },
  {
   "cell_type": "code",
   "execution_count": null,
   "metadata": {},
   "outputs": [],
   "source": []
  }
 ],
 "metadata": {
  "kernelspec": {
   "display_name": "Python 3",
   "language": "python",
   "name": "python3"
  },
  "language_info": {
   "codemirror_mode": {
    "name": "ipython",
    "version": 3
   },
   "file_extension": ".py",
   "mimetype": "text/x-python",
   "name": "python",
   "nbconvert_exporter": "python",
   "pygments_lexer": "ipython3",
   "version": "3.6.9"
  }
 },
 "nbformat": 4,
 "nbformat_minor": 2
}
