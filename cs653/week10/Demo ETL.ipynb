{
 "cells": [
  {
   "cell_type": "code",
   "execution_count": 1,
   "metadata": {},
   "outputs": [],
   "source": [
    "import sqlite3\n",
    "import pandas as pd\n",
    "con = sqlite3.connect('db.sqlite3')"
   ]
  },
  {
   "cell_type": "code",
   "execution_count": 25,
   "metadata": {},
   "outputs": [],
   "source": [
    "df_car = pd.read_sql_query(\"SELECT * FROM appname_car\",con,index_col ='id')\n",
    "df_customer = pd.read_sql_query(\"SELECT * FROM appname_customer\",con,index_col ='id')\n",
    "df_rent = pd.read_sql(\n",
    "    sql=\"SELECT * FROM appname_rent\",\n",
    "    con=con,\n",
    "    parse_dates={\n",
    "        'star': {'format': '%Y-%m-%d %H:%M:%S'},\n",
    "        'stop': {'format': '%Y-%m-%d %H:%M:%S'}\n",
    "    },\n",
    "    index_col ='id'\n",
    ")"
   ]
  },
  {
   "cell_type": "code",
   "execution_count": 26,
   "metadata": {},
   "outputs": [
    {
     "name": "stdout",
     "output_type": "stream",
     "text": [
      "<class 'pandas.core.frame.DataFrame'>\n",
      "Int64Index: 5 entries, 1 to 5\n",
      "Data columns (total 5 columns):\n",
      "cost           5 non-null int64\n",
      "star           5 non-null datetime64[ns]\n",
      "stop           5 non-null datetime64[ns]\n",
      "car_id         5 non-null int64\n",
      "customer_id    5 non-null int64\n",
      "dtypes: datetime64[ns](2), int64(3)\n",
      "memory usage: 240.0 bytes\n"
     ]
    }
   ],
   "source": [
    "df_rent.info()"
   ]
  },
  {
   "cell_type": "code",
   "execution_count": 28,
   "metadata": {},
   "outputs": [
    {
     "data": {
      "text/plain": [
       "pandas._libs.tslibs.timestamps.Timestamp"
      ]
     },
     "execution_count": 28,
     "metadata": {},
     "output_type": "execute_result"
    }
   ],
   "source": [
    "type(df_rent.iloc[0][2])"
   ]
  },
  {
   "cell_type": "code",
   "execution_count": 29,
   "metadata": {},
   "outputs": [
    {
     "data": {
      "text/html": [
       "<div>\n",
       "<style scoped>\n",
       "    .dataframe tbody tr th:only-of-type {\n",
       "        vertical-align: middle;\n",
       "    }\n",
       "\n",
       "    .dataframe tbody tr th {\n",
       "        vertical-align: top;\n",
       "    }\n",
       "\n",
       "    .dataframe thead th {\n",
       "        text-align: right;\n",
       "    }\n",
       "</style>\n",
       "<table border=\"1\" class=\"dataframe\">\n",
       "  <thead>\n",
       "    <tr style=\"text-align: right;\">\n",
       "      <th></th>\n",
       "      <th>cost</th>\n",
       "      <th>star</th>\n",
       "      <th>stop</th>\n",
       "      <th>car_id</th>\n",
       "      <th>customer_id</th>\n",
       "    </tr>\n",
       "    <tr>\n",
       "      <th>id</th>\n",
       "      <th></th>\n",
       "      <th></th>\n",
       "      <th></th>\n",
       "      <th></th>\n",
       "      <th></th>\n",
       "    </tr>\n",
       "  </thead>\n",
       "  <tbody>\n",
       "    <tr>\n",
       "      <td>1</td>\n",
       "      <td>400</td>\n",
       "      <td>2019-10-20 08:46:42.302381</td>\n",
       "      <td>2019-10-20 08:46:42.302466</td>\n",
       "      <td>1</td>\n",
       "      <td>1</td>\n",
       "    </tr>\n",
       "    <tr>\n",
       "      <td>2</td>\n",
       "      <td>800</td>\n",
       "      <td>2019-10-20 08:46:54.145270</td>\n",
       "      <td>2019-10-20 08:46:54.145356</td>\n",
       "      <td>2</td>\n",
       "      <td>2</td>\n",
       "    </tr>\n",
       "    <tr>\n",
       "      <td>3</td>\n",
       "      <td>800</td>\n",
       "      <td>2019-10-20 08:47:08.757061</td>\n",
       "      <td>2019-10-20 08:47:08.757146</td>\n",
       "      <td>1</td>\n",
       "      <td>1</td>\n",
       "    </tr>\n",
       "    <tr>\n",
       "      <td>4</td>\n",
       "      <td>900</td>\n",
       "      <td>2019-10-20 08:47:19.075226</td>\n",
       "      <td>2019-10-20 08:47:19.075312</td>\n",
       "      <td>2</td>\n",
       "      <td>2</td>\n",
       "    </tr>\n",
       "    <tr>\n",
       "      <td>5</td>\n",
       "      <td>950</td>\n",
       "      <td>2019-10-20 08:47:31.431907</td>\n",
       "      <td>2019-10-20 08:47:31.431990</td>\n",
       "      <td>2</td>\n",
       "      <td>2</td>\n",
       "    </tr>\n",
       "  </tbody>\n",
       "</table>\n",
       "</div>"
      ],
      "text/plain": [
       "    cost                       star                       stop  car_id  \\\n",
       "id                                                                       \n",
       "1    400 2019-10-20 08:46:42.302381 2019-10-20 08:46:42.302466       1   \n",
       "2    800 2019-10-20 08:46:54.145270 2019-10-20 08:46:54.145356       2   \n",
       "3    800 2019-10-20 08:47:08.757061 2019-10-20 08:47:08.757146       1   \n",
       "4    900 2019-10-20 08:47:19.075226 2019-10-20 08:47:19.075312       2   \n",
       "5    950 2019-10-20 08:47:31.431907 2019-10-20 08:47:31.431990       2   \n",
       "\n",
       "    customer_id  \n",
       "id               \n",
       "1             1  \n",
       "2             2  \n",
       "3             1  \n",
       "4             2  \n",
       "5             2  "
      ]
     },
     "execution_count": 29,
     "metadata": {},
     "output_type": "execute_result"
    }
   ],
   "source": [
    "df_rent"
   ]
  },
  {
   "cell_type": "code",
   "execution_count": null,
   "metadata": {},
   "outputs": [],
   "source": []
  }
 ],
 "metadata": {
  "kernelspec": {
   "display_name": "Python 3",
   "language": "python",
   "name": "python3"
  },
  "language_info": {
   "codemirror_mode": {
    "name": "ipython",
    "version": 3
   },
   "file_extension": ".py",
   "mimetype": "text/x-python",
   "name": "python",
   "nbconvert_exporter": "python",
   "pygments_lexer": "ipython3",
   "version": "3.6.9"
  }
 },
 "nbformat": 4,
 "nbformat_minor": 4
}
